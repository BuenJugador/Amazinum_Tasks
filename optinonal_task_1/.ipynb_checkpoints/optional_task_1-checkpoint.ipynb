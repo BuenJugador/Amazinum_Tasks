{
 "cells": [
  {
   "cell_type": "code",
   "execution_count": 1,
   "id": "026323dc-ee8e-454e-993b-4ae53a009da3",
   "metadata": {},
   "outputs": [
    {
     "name": "stdout",
     "output_type": "stream",
     "text": [
      "(3, 4), (69, 96), (84, 84), (77, 96), (84, 88), (78, 98), (84, 91), (80, 99), (88, 90), "
     ]
    }
   ],
   "source": [
    "def FindProdPairs() -> list[tuple[int, int]]:\n",
    "    listOfPairs: list[tuple[int, int]] = []\n",
    "\n",
    "    for i in range(4, 10_000):\n",
    "        pairs: list[tuple[int, int]] = []\n",
    "        for j in range(2, min(int(i ** 0.5) + 1, 100)):\n",
    "            if i % j == 0:\n",
    "                multiplier = i // j\n",
    "                if j <= multiplier < 100:\n",
    "                    pairs.append((j, multiplier))\n",
    "\n",
    "        if len(pairs) > 1:\n",
    "            listOfPairs.extend(pairs)\n",
    "\n",
    "    return listOfPairs\n",
    "\n",
    "def FindSumPairs() -> list[tuple[int, int]]:\n",
    "    listOfPairs: list[tuple[int, int]] = []\n",
    "    pairs: list[tuple[int, int]] = FindProdPairs()\n",
    "\n",
    "    sum_counts = {} \n",
    "    for a, b in pairs:\n",
    "        S = a + b\n",
    "        sum_counts[S] = sum_counts.get(S, 0) + 1\n",
    "\n",
    "    for a, b in pairs:\n",
    "        if sum_counts[a + b] == 1:  \n",
    "            listOfPairs.append((a, b))\n",
    "\n",
    "    return listOfPairs\n",
    "\n",
    "\n",
    "valid_pairs = FindSumPairs()\n",
    "for i in valid_pairs:\n",
    "    print(i, end = \" \")"
   ]
  }
 ],
 "metadata": {
  "kernelspec": {
   "display_name": "Python 3 (ipykernel)",
   "language": "python",
   "name": "python3"
  },
  "language_info": {
   "codemirror_mode": {
    "name": "ipython",
    "version": 3
   },
   "file_extension": ".py",
   "mimetype": "text/x-python",
   "name": "python",
   "nbconvert_exporter": "python",
   "pygments_lexer": "ipython3",
   "version": "3.13.2"
  }
 },
 "nbformat": 4,
 "nbformat_minor": 5
}
