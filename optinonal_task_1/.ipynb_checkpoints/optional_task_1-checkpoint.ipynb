{
 "cells": [
  {
   "cell_type": "code",
   "execution_count": 1,
   "id": "026323dc-ee8e-454e-993b-4ae53a009da3",
   "metadata": {},
   "outputs": [
    {
     "name": "stdout",
     "output_type": "stream",
     "text": [
      "(3, 4) (69, 96) (84, 84) (77, 96) (84, 88) (78, 98) (84, 91) (80, 99) (88, 90) "
     ]
    }
   ],
   "source": [
    "def FindProdPairs() -> list[tuple[int, int]]:\n",
    "    \"\"\"\n",
    "    Finds all pairs of integers (a, b) such that:\n",
    "    - 4 ≤ a * b < 10,000\n",
    "    - 2 ≤ a < b < 100 (as we search pairs where both values are less than 100)\n",
    "    - a and b are factors of some number in the given range\n",
    "    - We consider only numbers that have two or more such pairs (as per the task requirement)\n",
    "    \"\"\"\n",
    "    listOfPairs: list[tuple[int, int]] = []\n",
    "\n",
    "    for i in range(4, 10_000): # Iterate through numbers from 4 to 9999 (since max pair is 99 * 99)\n",
    "        pairs: list[tuple[int, int]] = []\n",
    "        for j in range(2, min(int(i ** 0.5) + 1, 100)):\n",
    "            if i % j == 0:\n",
    "                multiplier = i // j\n",
    "                if j <= multiplier < 100: # Ensure both factors are within the valid range\n",
    "                    pairs.append((j, multiplier))\n",
    "\n",
    "        if len(pairs) > 1: # Only keep numbers with two or more valid pairs\n",
    "            listOfPairs.extend(pairs)\n",
    "\n",
    "    return listOfPairs\n",
    "\n",
    "def FindSumPairs() -> list[tuple[int, int]]:\n",
    "    \"\"\"\n",
    "    Filters pairs from FindProdPairs() to find unique sum pairs.\n",
    "    - A sum pair (a, b) is valid if its sum appears only once among all pairs.\n",
    "    \"\"\"\n",
    "    listOfPairs: list[tuple[int, int]] = []\n",
    "    pairs: list[tuple[int, int]] = FindProdPairs()\n",
    "\n",
    "    sum_counts = {} # Dictionary to count occurrences of each sum\n",
    "    for a, b in pairs:\n",
    "        S = a + b\n",
    "        sum_counts[S] = sum_counts.get(S, 0) + 1 \n",
    "\n",
    "    for a, b in pairs:\n",
    "        if sum_counts[a + b] == 1:  # Keep only pairs whose sum appears exactly once\n",
    "            listOfPairs.append((a, b))\n",
    "\n",
    "    return listOfPairs\n",
    "\n",
    "# Find and print all valid pairs\n",
    "valid_pairs = FindSumPairs()\n",
    "for i in valid_pairs:\n",
    "    print(i, end = \" \")"
   ]
  }
 ],
 "metadata": {
  "kernelspec": {
   "display_name": "Python 3 (ipykernel)",
   "language": "python",
   "name": "python3"
  },
  "language_info": {
   "codemirror_mode": {
    "name": "ipython",
    "version": 3
   },
   "file_extension": ".py",
   "mimetype": "text/x-python",
   "name": "python",
   "nbconvert_exporter": "python",
   "pygments_lexer": "ipython3",
   "version": "3.13.2"
  }
 },
 "nbformat": 4,
 "nbformat_minor": 5
}
