{
 "cells": [
  {
   "cell_type": "code",
   "execution_count": 10,
   "id": "02712f8a-25dd-4f8d-a407-3ea18abbe42f",
   "metadata": {},
   "outputs": [],
   "source": [
    "def AllPossiblePairs():\n",
    "    \"\"\"\n",
    "    Generates all possible unique pairs of integers (a, b) such that:\n",
    "    - 2 ≤ a ≤ b ≤ 99\n",
    "    - We iterate through numbers from 2 to 99 (inclusive)\n",
    "    - Each pair is unique with a ≤ b to avoid duplicates like (b, a)\n",
    "\n",
    "    Returns:\n",
    "        pairs (list of tuple[int, int]): a list containing all possible valid pairs (a, b)\n",
    "    \"\"\"\n",
    "    MIN_NUM = 2\n",
    "    MAX_NUM = 99\n",
    "    pairs = []\n",
    "    for a in range(MIN_NUM, MAX_NUM + 1):\n",
    "        for b in range(a, MAX_NUM + 1):\n",
    "            pairs.append((a, b))\n",
    "    return pairs"
   ]
  },
  {
   "cell_type": "code",
   "execution_count": 11,
   "id": "7e06ed77-23b3-4dc0-815e-5d1b38ab4d31",
   "metadata": {},
   "outputs": [],
   "source": [
    "def CreateProductMap(pairs):\n",
    "    \"\"\"\n",
    "    Creates a dictionary (product map) where:\n",
    "    - The key is the product P = a * b of a pair of numbers\n",
    "    - The value is a list of all pairs (a, b) that produce this product\n",
    "\n",
    "    Parameters:\n",
    "        pairs (list of tuple[int, int]): a list of pairs to process\n",
    "\n",
    "    Returns:\n",
    "        prod_map (dict[int, list[tuple[int, int]]]): \n",
    "            a dictionary mapping products to the list of pairs producing them\n",
    "    \"\"\"\n",
    "    prod_map = {}\n",
    "\n",
    "    for a, b in pairs:\n",
    "        P = a * b\n",
    "\n",
    "        if P not in prod_map:\n",
    "            prod_map[P] = []\n",
    "        prod_map[P].append((a, b))\n",
    "\n",
    "    return prod_map"
   ]
  },
  {
   "cell_type": "code",
   "execution_count": 12,
   "id": "5c077475-4e93-4a44-808d-7df96c688c5d",
   "metadata": {},
   "outputs": [],
   "source": [
    "def PairsProdDoesntKnow():\n",
    "    \"\"\"\n",
    "    Filters the product map to select products that:\n",
    "    - Have more than one pair (a, b) associated with them\n",
    "    - Represent situations where Prod doesn't initially know the pair \n",
    "      because multiple decompositions exist\n",
    "\n",
    "    Returns:\n",
    "        unknown_prods (dict[int, list[tuple[int, int]]]): \n",
    "            a dictionary of products with multiple possible pairs\n",
    "    \"\"\"\n",
    "    prod_map = CreateProductMap(AllPossiblePairs())\n",
    "    return {prods: pairs for prods, pairs in prod_map.items() if len(pairs) > 1}"
   ]
  },
  {
   "cell_type": "code",
   "execution_count": 13,
   "id": "1ce171b0-a053-4619-8f7b-82ceb01b4f1f",
   "metadata": {},
   "outputs": [],
   "source": [
    "def PairsSumKnows(unknown_prods):\n",
    "    \"\"\"\n",
    "    Processes the products where Prod initially doesn't know the pair,\n",
    "    and determines which sums Sum could know by:\n",
    "    - Counting how many times each sum S = a + b appears among these pairs\n",
    "    - Keeping only those sums that appear exactly once\n",
    "\n",
    "    Parameters:\n",
    "        unknown_prods (dict[int, list[tuple[int, int]]]): \n",
    "            dictionary of products with multiple possible pairs\n",
    "\n",
    "    Returns:\n",
    "        valid_sums (dict[int, list[tuple[int, int]]]): \n",
    "            a dictionary where each key is a sum S and the value is a list \n",
    "            of pairs (a, b) whose sum appears exactly once\n",
    "    \"\"\"\n",
    "    sum_counts = {}\n",
    "    pair_map = {}\n",
    "\n",
    "    for pairs in unknown_prods.values():\n",
    "        for a, b in pairs:\n",
    "            S = a + b\n",
    "            sum_counts[S] = sum_counts.get(S, 0) + 1\n",
    "            pair_map[S] = (a, b)\n",
    "\n",
    "    valid_sums = {}\n",
    "\n",
    "    for S, count in sum_counts.items():\n",
    "        if count == 1:  \n",
    "            valid_sums[S] = [pair_map[S]]\n",
    "\n",
    "    return valid_sums"
   ]
  },
  {
   "cell_type": "code",
   "execution_count": 14,
   "id": "d7553dd9-d386-436c-b6a3-a1b44e8c016d",
   "metadata": {},
   "outputs": [],
   "source": [
    "def PairsProdKnows(valid_sums):\n",
    "    \"\"\"\n",
    "    Processes the valid sums found by Sum and determines\n",
    "    which products Prod can now uniquely identify by:\n",
    "    - Counting how many times each product P = a * b appears among these sums\n",
    "    - Keeping only those products that appear exactly once\n",
    "\n",
    "    Parameters:\n",
    "        valid_sums (dict[int, list[tuple[int, int]]]): \n",
    "            dictionary of sums with a unique pair\n",
    "\n",
    "    Returns:\n",
    "        valid_prods (dict[int, list[tuple[int, int]]]): \n",
    "            a dictionary where each key is a product P and the value is a list \n",
    "            of pairs (a, b) whose product appears exactly once\n",
    "    \"\"\"\n",
    "    prod_counts = {}\n",
    "    pair_map = {}\n",
    "\n",
    "    for pairs in valid_sums.values():\n",
    "        for a, b in pairs:\n",
    "            P = a * b\n",
    "            prod_counts[P] = prod_counts.get(P, 0) + 1\n",
    "            pair_map[P] = (a, b)\n",
    "\n",
    "    valid_prods = {}\n",
    "\n",
    "    for P, count in prod_counts.items():\n",
    "        if count == 1:  \n",
    "            valid_prods[P] = [pair_map[P]]\n",
    "\n",
    "    return valid_prods"
   ]
  },
  {
   "cell_type": "code",
   "execution_count": 15,
   "id": "3a09894c-8cb1-44ff-8714-147effe40a98",
   "metadata": {},
   "outputs": [],
   "source": [
    "def SolvePuzzle():\n",
    "    unknown_prods = PairsProdDoesntKnow()\n",
    "    valid_sums = PairsSumKnows(unknown_prods)\n",
    "    valid_prods = PairsProdKnows(valid_sums)\n",
    "    final_result = PairsSumKnows(valid_prods)\n",
    "    return final_result"
   ]
  },
  {
   "cell_type": "code",
   "execution_count": 16,
   "id": "026323dc-ee8e-454e-993b-4ae53a009da3",
   "metadata": {},
   "outputs": [
    {
     "name": "stdout",
     "output_type": "stream",
     "text": [
      "a = 3, b = 4, sum = 7, prod = 12\n",
      "a = 69, b = 96, sum = 165, prod = 6624\n",
      "a = 84, b = 84, sum = 168, prod = 7056\n"
     ]
    }
   ],
   "source": [
    "solution = SolvePuzzle()\n",
    "for pair in solution.values():\n",
    "    for a, b in pair:\n",
    "        print(f\"a = {a}, b = {b}, sum = {a + b}, prod = {a * b}\")"
   ]
  }
 ],
 "metadata": {
  "kernelspec": {
   "display_name": "Python 3 (ipykernel)",
   "language": "python",
   "name": "python3"
  },
  "language_info": {
   "codemirror_mode": {
    "name": "ipython",
    "version": 3
   },
   "file_extension": ".py",
   "mimetype": "text/x-python",
   "name": "python",
   "nbconvert_exporter": "python",
   "pygments_lexer": "ipython3",
   "version": "3.13.2"
  }
 },
 "nbformat": 4,
 "nbformat_minor": 5
}
